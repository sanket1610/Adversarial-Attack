{
  "nbformat": 4,
  "nbformat_minor": 0,
  "metadata": {
    "colab": {
      "name": "Copy of Untitled0.ipynb",
      "version": "0.3.2",
      "provenance": [],
      "collapsed_sections": []
    },
    "kernelspec": {
      "name": "python3",
      "display_name": "Python 3"
    },
    "accelerator": "GPU"
  },
  "cells": [
    {
      "cell_type": "code",
      "metadata": {
        "id": "lSQJzHXe4mM-",
        "colab_type": "code",
        "outputId": "aa7cac9a-ecc7-4493-d3db-176ef85053ef",
        "colab": {
          "base_uri": "https://localhost:8080/",
          "height": 34
        }
      },
      "source": [
        "from keras.datasets import mnist\n",
        "import matplotlib.pyplot as plt\n"
      ],
      "execution_count": 0,
      "outputs": [
        {
          "output_type": "stream",
          "text": [
            "Using TensorFlow backend.\n"
          ],
          "name": "stderr"
        }
      ]
    },
    {
      "cell_type": "code",
      "metadata": {
        "id": "68R5Qcioz4UU",
        "colab_type": "code",
        "outputId": "b6ded4e6-f35c-4aef-fc16-9b20cdc42992",
        "colab": {
          "base_uri": "https://localhost:8080/",
          "height": 68
        }
      },
      "source": [
        "(x_train, y_train),(x_test,y_test) = mnist.load_data()\n",
        "x_train.shape"
      ],
      "execution_count": 0,
      "outputs": [
        {
          "output_type": "stream",
          "text": [
            "Downloading data from https://s3.amazonaws.com/img-datasets/mnist.npz\n",
            "11493376/11490434 [==============================] - 0s 0us/step\n"
          ],
          "name": "stdout"
        },
        {
          "output_type": "execute_result",
          "data": {
            "text/plain": [
              "(60000, 28, 28)"
            ]
          },
          "metadata": {
            "tags": []
          },
          "execution_count": 2
        }
      ]
    },
    {
      "cell_type": "code",
      "metadata": {
        "id": "bYsL6L6uLH9K",
        "colab_type": "code",
        "colab": {}
      },
      "source": [
        "x_train_new =x_train.reshape(60000,784)\n",
        "x_test_new =x_test.reshape(10000,784)"
      ],
      "execution_count": 0,
      "outputs": []
    },
    {
      "cell_type": "code",
      "metadata": {
        "id": "S0jzwNsj0HV3",
        "colab_type": "code",
        "outputId": "62460073-2b9c-43fd-eff3-31b6637e0789",
        "colab": {
          "base_uri": "https://localhost:8080/",
          "height": 226
        }
      },
      "source": [
        "fig, ax = plt.subplots(nrows=2, ncols=5, sharex=True, sharey=True)\n",
        "ax = ax.flatten()\n",
        "for i in range(10):\n",
        "    img = x_train[y_train == i][0]\n",
        "    ax[i].imshow(img, cmap='Greys', interpolation='nearest')\n",
        "ax[0].set_xticks([])\n",
        "ax[0].set_yticks([])\n",
        "plt.tight_layout()\n",
        "plt.show()"
      ],
      "execution_count": 0,
      "outputs": [
        {
          "output_type": "display_data",
          "data": {
            "image/png": "[encoded data removed]",
            "text/plain": [
              "<Figure size 432x288 with 10 Axes>"
            ]
          },
          "metadata": {
            "tags": []
          }
        }
      ]
    },
    {
      "cell_type": "code",
      "metadata": {
        "id": "7KXw0c5y1Tr5",
        "colab_type": "code",
        "outputId": "474e256c-df81-4243-e138-8b0f74caf3fc",
        "colab": {
          "base_uri": "https://localhost:8080/",
          "height": 297
        }
      },
      "source": [
        "fig, ax = plt.subplots(nrows=5, ncols=5, sharex=True, sharey=True,)\n",
        "ax = ax.flatten()\n",
        "for i in range(25):\n",
        "    img = x_train[y_train == 4][i]\n",
        "    ax[i].imshow(img, cmap='Greys', interpolation='nearest')\n",
        "ax[0].set_xticks([])\n",
        "ax[0].set_yticks([])\n",
        "plt.tight_layout()\n",
        "plt.show()"
      ],
      "execution_count": 0,
      "outputs": [
        {
          "output_type": "display_data",
          "data": {
            "image/png": "[encoded data removed]",
            "text/plain": [
              "<Figure size 432x288 with 25 Axes>"
            ]
          },
          "metadata": {
            "tags": []
          }
        }
      ]
    },
    {
      "cell_type": "code",
      "metadata": {
        "id": "4JudOQji7t2u",
        "colab_type": "code",
        "outputId": "00b8fdff-7e47-4e36-c152-4ba731486197",
        "colab": {
          "base_uri": "https://localhost:8080/",
          "height": 297
        }
      },
      "source": [
        "fig, ax = plt.subplots(nrows=5, ncols=5, sharex=True, sharey=True,)\n",
        "ax = ax.flatten()\n",
        "for i in range(25):\n",
        "    img = x_train[y_train == 7][i]\n",
        "    ax[i].imshow(img, cmap='Greys', interpolation='nearest')\n",
        "ax[0].set_xticks([])\n",
        "ax[0].set_yticks([])\n",
        "plt.tight_layout()\n",
        "plt.show()"
      ],
      "execution_count": 0,
      "outputs": [
        {
          "output_type": "display_data",
          "data": {
            "image/png": "[encoded data removed]",
            "text/plain": [
              "<Figure size 432x288 with 25 Axes>"
            ]
          },
          "metadata": {
            "tags": []
          }
        }
      ]
    },
    {
      "cell_type": "code",
      "metadata": {
        "id": "KE_86rTT79A1",
        "colab_type": "code",
        "outputId": "13c4a1a1-5887-4985-8542-7a29cebd2413",
        "colab": {
          "base_uri": "https://localhost:8080/",
          "height": 297
        }
      },
      "source": [
        "fig, ax = plt.subplots(nrows=5, ncols=5, sharex=True, sharey=True,)\n",
        "ax = ax.flatten()\n",
        "for i in range(25):\n",
        "    img = x_train[y_train == 9][i]\n",
        "    ax[i].imshow(img, cmap='Greys', interpolation='nearest')\n",
        "ax[0].set_xticks([])\n",
        "ax[0].set_yticks([])\n",
        "plt.tight_layout()\n",
        "plt.show()"
      ],
      "execution_count": 0,
      "outputs": [
        {
          "output_type": "display_data",
          "data": {
            "image/png": "[encoded data removed]",
            "text/plain": [
              "<Figure size 432x288 with 25 Axes>"
            ]
          },
          "metadata": {
            "tags": []
          }
        }
      ]
    },
    {
      "cell_type": "code",
      "metadata": {
        "id": "j1AdBPcM8GaW",
        "colab_type": "code",
        "colab": {}
      },
      "source": [
        "import numpy as np\n",
        "from scipy.special import expit\n",
        "import sys\n",
        "\n",
        "\n",
        "class NeuralNetMLP(object):\n",
        "    \"\"\" Feedforward neural network / Multi-layer perceptron classifier.\n",
        "\n",
        "    Parameters\n",
        "    ------------\n",
        "    n_output : int\n",
        "        Number of output units, should be equal to the\n",
        "        number of unique class labels.\n",
        "    n_features : int\n",
        "        Number of features (dimensions) in the target dataset.\n",
        "        Should be equal to the number of columns in the X array.\n",
        "    n_hidden : int (default: 30)\n",
        "        Number of hidden units.\n",
        "    l1 : float (default: 0.0)\n",
        "        Lambda value for L1-regularization.\n",
        "        No regularization if l1=0.0 (default)\n",
        "    l2 : float (default: 0.0)\n",
        "        Lambda value for L2-regularization.\n",
        "        No regularization if l2=0.0 (default)\n",
        "    epochs : int (default: 500)\n",
        "        Number of passes over the training set.\n",
        "    eta : float (default: 0.001)\n",
        "        Learning rate.\n",
        "    alpha : float (default: 0.0)\n",
        "        Momentum constant. Factor multiplied with the\n",
        "        gradient of the previous epoch t-1 to improve\n",
        "        learning speed\n",
        "        w(t) := w(t) - (grad(t) + alpha*grad(t-1))\n",
        "    decrease_const : float (default: 0.0)\n",
        "        Decrease constant. Shrinks the learning rate\n",
        "        after each epoch via eta / (1 + epoch*decrease_const)\n",
        "    shuffle : bool (default: True)\n",
        "        Shuffles training data every epoch if True to prevent circles.\n",
        "    minibatches : int (default: 1)\n",
        "        Divides training data into k minibatches for efficiency.\n",
        "        Normal gradient descent learning if k=1 (default).\n",
        "    random_state : int (default: None)\n",
        "        Set random state for shuffling and initializing the weights.\n",
        "\n",
        "    Attributes\n",
        "    -----------\n",
        "    cost_ : list\n",
        "      Sum of squared errors after each epoch.\n",
        "\n",
        "    \"\"\"\n",
        "    def __init__(self, n_output, n_features, n_hidden=30,\n",
        "                 l1=0.0, l2=0.0, epochs=500, eta=0.001,\n",
        "                 alpha=0.0, decrease_const=0.0, shuffle=True,\n",
        "                 minibatches=1, random_state=None):\n",
        "\n",
        "        np.random.seed(random_state)\n",
        "        self.n_output = n_output\n",
        "        self.n_features = n_features\n",
        "        self.n_hidden = n_hidden\n",
        "        self.w1, self.w2 = self._initialize_weights()\n",
        "        self.l1 = l1\n",
        "        self.l2 = l2\n",
        "        self.epochs = epochs\n",
        "        self.eta = eta\n",
        "        self.alpha = alpha\n",
        "        self.decrease_const = decrease_const\n",
        "        self.shuffle = shuffle\n",
        "        self.minibatches = minibatches\n",
        "\n",
        "    def _encode_labels(self, y, k):\n",
        "        \"\"\"Encode labels into one-hot representation\n",
        "\n",
        "        Parameters\n",
        "        ------------\n",
        "        y : array, shape = [n_samples]\n",
        "            Target values.\n",
        "\n",
        "        Returns\n",
        "        -----------\n",
        "        onehot : array, shape = (n_labels, n_samples)\n",
        "\n",
        "        \"\"\"\n",
        "        onehot = np.zeros((k, y.shape[0]))\n",
        "        for idx, val in enumerate(y):\n",
        "            onehot[val, idx] = 1.0\n",
        "        return onehot\n",
        "\n",
        "    def _initialize_weights(self):\n",
        "        \"\"\"Initialize weights with small random numbers.\"\"\"\n",
        "        w1 = np.random.uniform(-1.0, 1.0,\n",
        "                               size=self.n_hidden*(self.n_features + 1))\n",
        "        w1 = w1.reshape(self.n_hidden, self.n_features + 1)\n",
        "        w2 = np.random.uniform(-1.0, 1.0,\n",
        "                               size=self.n_output*(self.n_hidden + 1))\n",
        "        w2 = w2.reshape(self.n_output, self.n_hidden + 1)\n",
        "        return w1, w2\n",
        "\n",
        "    def _sigmoid(self, z):\n",
        "        \"\"\"Compute logistic function (sigmoid)\n",
        "\n",
        "        Uses scipy.special.expit to avoid overflow\n",
        "        error for very small input values z.\n",
        "\n",
        "        \"\"\"\n",
        "        # return 1.0 / (1.0 + np.exp(-z))\n",
        "        return expit(z)\n",
        "\n",
        "    def _sigmoid_gradient(self, z):\n",
        "        \"\"\"Compute gradient of the logistic function\"\"\"\n",
        "        sg = self._sigmoid(z)\n",
        "        return sg * (1.0 - sg)\n",
        "\n",
        "    def _add_bias_unit(self, X, how='column'):\n",
        "        \"\"\"Add bias unit (column or row of 1s) to array at index 0\"\"\"\n",
        "        if how == 'column':\n",
        "            X_new = np.ones((X.shape[0], X.shape[1] + 1))\n",
        "            X_new[:, 1:] = X\n",
        "        elif how == 'row':\n",
        "            X_new = np.ones((X.shape[0] + 1, X.shape[1]))\n",
        "            X_new[1:, :] = X\n",
        "        else:\n",
        "            raise AttributeError('`how` must be `column` or `row`')\n",
        "        return X_new\n",
        "\n",
        "    def _feedforward(self, X, w1, w2):\n",
        "        \"\"\"Compute feedforward step\n",
        "\n",
        "        Parameters\n",
        "        -----------\n",
        "        X : array, shape = [n_samples, n_features]\n",
        "            Input layer with original features.\n",
        "        w1 : array, shape = [n_hidden_units, n_features]\n",
        "            Weight matrix for input layer -> hidden layer.\n",
        "        w2 : array, shape = [n_output_units, n_hidden_units]\n",
        "            Weight matrix for hidden layer -> output layer.\n",
        "\n",
        "        Returns\n",
        "        ----------\n",
        "        a1 : array, shape = [n_samples, n_features+1]\n",
        "            Input values with bias unit.\n",
        "        z2 : array, shape = [n_hidden, n_samples]\n",
        "            Net input of hidden layer.\n",
        "        a2 : array, shape = [n_hidden+1, n_samples]\n",
        "            Activation of hidden layer.\n",
        "        z3 : array, shape = [n_output_units, n_samples]\n",
        "            Net input of output layer.\n",
        "        a3 : array, shape = [n_output_units, n_samples]\n",
        "            Activation of output layer.\n",
        "\n",
        "        \"\"\"\n",
        "        a1 = self._add_bias_unit(X, how='column')\n",
        "        z2 = w1.dot(a1.T)\n",
        "        a2 = self._sigmoid(z2)\n",
        "        a2 = self._add_bias_unit(a2, how='row')\n",
        "        z3 = w2.dot(a2)\n",
        "        a3 = self._sigmoid(z3)\n",
        "        return a1, z2, a2, z3, a3\n",
        "\n",
        "    def _L2_reg(self, lambda_, w1, w2):\n",
        "        \"\"\"Compute L2-regularization cost\"\"\"\n",
        "        return (lambda_/2.0) * (np.sum(w1[:, 1:] ** 2) +\n",
        "                                np.sum(w2[:, 1:] ** 2))\n",
        "\n",
        "    def _L1_reg(self, lambda_, w1, w2):\n",
        "        \"\"\"Compute L1-regularization cost\"\"\"\n",
        "        return (lambda_/2.0) * (np.abs(w1[:, 1:]).sum() +\n",
        "                                np.abs(w2[:, 1:]).sum())\n",
        "\n",
        "    def _get_cost(self, y_enc, output, w1, w2):\n",
        "        \"\"\"Compute cost function.\n",
        "\n",
        "        Parameters\n",
        "        ----------\n",
        "        y_enc : array, shape = (n_labels, n_samples)\n",
        "            one-hot encoded class labels.\n",
        "        output : array, shape = [n_output_units, n_samples]\n",
        "            Activation of the output layer (feedforward)\n",
        "        w1 : array, shape = [n_hidden_units, n_features]\n",
        "            Weight matrix for input layer -> hidden layer.\n",
        "        w2 : array, shape = [n_output_units, n_hidden_units]\n",
        "            Weight matrix for hidden layer -> output layer.\n",
        "\n",
        "        Returns\n",
        "        ---------\n",
        "        cost : float\n",
        "            Regularized cost.\n",
        "\n",
        "        \"\"\"\n",
        "        term1 = -y_enc * (np.log(output))\n",
        "        term2 = (1.0 - y_enc) * np.log(1.0 - output)\n",
        "        cost = np.sum(term1 - term2)\n",
        "        L1_term = self._L1_reg(self.l1, w1, w2)\n",
        "        L2_term = self._L2_reg(self.l2, w1, w2)\n",
        "        cost = cost + L1_term + L2_term\n",
        "        return cost\n",
        "\n",
        "    def _get_gradient(self, a1, a2, a3, z2, y_enc, w1, w2):\n",
        "        \"\"\" Compute gradient step using backpropagation.\n",
        "\n",
        "        Parameters\n",
        "        ------------\n",
        "        a1 : array, shape = [n_samples, n_features+1]\n",
        "            Input values with bias unit.\n",
        "        a2 : array, shape = [n_hidden+1, n_samples]\n",
        "            Activation of hidden layer.\n",
        "        a3 : array, shape = [n_output_units, n_samples]\n",
        "            Activation of output layer.\n",
        "        z2 : array, shape = [n_hidden, n_samples]\n",
        "            Net input of hidden layer.\n",
        "        y_enc : array, shape = (n_labels, n_samples)\n",
        "            one-hot encoded class labels.\n",
        "        w1 : array, shape = [n_hidden_units, n_features]\n",
        "            Weight matrix for input layer -> hidden layer.\n",
        "        w2 : array, shape = [n_output_units, n_hidden_units]\n",
        "            Weight matrix for hidden layer -> output layer.\n",
        "\n",
        "        Returns\n",
        "        ---------\n",
        "        grad1 : array, shape = [n_hidden_units, n_features]\n",
        "            Gradient of the weight matrix w1.\n",
        "        grad2 : array, shape = [n_output_units, n_hidden_units]\n",
        "            Gradient of the weight matrix w2.\n",
        "\n",
        "        \"\"\"\n",
        "        # backpropagation\n",
        "        sigma3 = a3 - y_enc\n",
        "        z2 = self._add_bias_unit(z2, how='row')\n",
        "        sigma2 = w2.T.dot(sigma3) * self._sigmoid_gradient(z2)\n",
        "        sigma2 = sigma2[1:, :]\n",
        "        grad1 = sigma2.dot(a1)\n",
        "        grad2 = sigma3.dot(a2.T)\n",
        "\n",
        "        # regularize\n",
        "        grad1[:, 1:] += self.l2 * w1[:, 1:]\n",
        "        grad1[:, 1:] += self.l1 * np.sign(w1[:, 1:])\n",
        "        grad2[:, 1:] += self.l2 * w2[:, 1:]\n",
        "        grad2[:, 1:] += self.l1 * np.sign(w2[:, 1:])\n",
        "\n",
        "        return grad1, grad2\n",
        "\n",
        "    def predict(self, X):\n",
        "        \"\"\"Predict class labels\n",
        "\n",
        "        Parameters\n",
        "        -----------\n",
        "        X : array, shape = [n_samples, n_features]\n",
        "            Input layer with original features.\n",
        "\n",
        "        Returns:\n",
        "        ----------\n",
        "        y_pred : array, shape = [n_samples]\n",
        "            Predicted class labels.\n",
        "\n",
        "        \"\"\"\n",
        "        if len(X.shape) != 2:\n",
        "            raise AttributeError('X must be a [n_samples, n_features] array.\\n'\n",
        "                                 'Use X[:,None] for 1-feature classification,'\n",
        "                                 '\\nor X[[i]] for 1-sample classification')\n",
        "\n",
        "        a1, z2, a2, z3, a3 = self._feedforward(X, self.w1, self.w2)\n",
        "        y_pred = np.argmax(z3, axis=0)\n",
        "        return y_pred\n",
        "\n",
        "    def fit(self, X, y, print_progress=False):\n",
        "        \"\"\" Learn weights from training data.\n",
        "\n",
        "        Parameters\n",
        "        -----------\n",
        "        X : array, shape = [n_samples, n_features]\n",
        "            Input layer with original features.\n",
        "        y : array, shape = [n_samples]\n",
        "            Target class labels.\n",
        "        print_progress : bool (default: False)\n",
        "            Prints progress as the number of epochs\n",
        "            to stderr.\n",
        "\n",
        "        Returns:\n",
        "        ----------\n",
        "        self\n",
        "\n",
        "        \"\"\"\n",
        "        self.cost_ = []\n",
        "        X_data, y_data = X.copy(), y.copy()\n",
        "        y_enc = self._encode_labels(y, self.n_output)\n",
        "\n",
        "        delta_w1_prev = np.zeros(self.w1.shape)\n",
        "        delta_w2_prev = np.zeros(self.w2.shape)\n",
        "\n",
        "        for i in range(self.epochs):\n",
        "\n",
        "            # adaptive learning rate\n",
        "            self.eta /= (1 + self.decrease_const*i)\n",
        "\n",
        "            if print_progress:\n",
        "                sys.stderr.write('\\rEpoch: %d/%d' % (i+1, self.epochs))\n",
        "                sys.stderr.flush()\n",
        "\n",
        "            if self.shuffle:\n",
        "                idx = np.random.permutation(y_data.shape[0])\n",
        "                X_data, y_enc = X_data[idx], y_enc[:, idx]\n",
        "\n",
        "            mini = np.array_split(range(y_data.shape[0]), self.minibatches)\n",
        "            for idx in mini:\n",
        "\n",
        "                # feedforward\n",
        "                a1, z2, a2, z3, a3 = self._feedforward(X_data[idx],\n",
        "                                                       self.w1,\n",
        "                                                       self.w2)\n",
        "                cost = self._get_cost(y_enc=y_enc[:, idx],\n",
        "                                      output=a3,\n",
        "                                      w1=self.w1,\n",
        "                                      w2=self.w2)\n",
        "                self.cost_.append(cost)\n",
        "\n",
        "                # compute gradient via backpropagation\n",
        "                grad1, grad2 = self._get_gradient(a1=a1, a2=a2,\n",
        "                                                  a3=a3, z2=z2,\n",
        "                                                  y_enc=y_enc[:, idx],\n",
        "                                                  w1=self.w1,\n",
        "                                                  w2=self.w2)\n",
        "\n",
        "                delta_w1, delta_w2 = self.eta * grad1, self.eta * grad2\n",
        "                self.w1 -= (delta_w1 + (self.alpha * delta_w1_prev))\n",
        "                self.w2 -= (delta_w2 + (self.alpha * delta_w2_prev))\n",
        "                delta_w1_prev, delta_w2_prev = delta_w1, delta_w2\n",
        "\n",
        "        return self"
      ],
      "execution_count": 0,
      "outputs": []
    },
    {
      "cell_type": "code",
      "metadata": {
        "id": "F8iIcX8r8Qd_",
        "colab_type": "code",
        "outputId": "bdca5827-184f-4f73-d084-eafef22e5676",
        "colab": {
          "base_uri": "https://localhost:8080/",
          "height": 34
        }
      },
      "source": [
        "# initialization\n",
        "nn = NeuralNetMLP(n_output=10, \n",
        "                  n_features=784, \n",
        "                  n_hidden=1200, \n",
        "                  l2=0.1, \n",
        "                  l1=0.0, \n",
        "                  epochs=1000, \n",
        "                  eta=0.001,\n",
        "                  alpha=0.001,\n",
        "                  decrease_const=0.00001,\n",
        "                  minibatches=50, \n",
        "                  shuffle=True,\n",
        "                  random_state=1)\n",
        "nn"
      ],
      "execution_count": 0,
      "outputs": [
        {
          "output_type": "execute_result",
          "data": {
            "text/plain": [
              "<__main__.NeuralNetMLP at 0x7fec55d0f4e0>"
            ]
          },
          "metadata": {
            "tags": []
          },
          "execution_count": 9
        }
      ]
    },
    {
      "cell_type": "code",
      "metadata": {
        "id": "ifOPaxTV8W2y",
        "colab_type": "code",
        "outputId": "17d75c29-cbd1-4e64-8320-1786cad38e5f",
        "colab": {
          "base_uri": "https://localhost:8080/",
          "height": 68
        }
      },
      "source": [
        "# training\n",
        "nn.fit(x_train_new, y_train, print_progress=True)"
      ],
      "execution_count": 0,
      "outputs": [
        {
          "output_type": "stream",
          "text": [
            "\rEpoch: 1/1000/usr/local/lib/python3.6/dist-packages/ipykernel_launcher.py:190: RuntimeWarning: divide by zero encountered in log\n",
            "/usr/local/lib/python3.6/dist-packages/ipykernel_launcher.py:190: RuntimeWarning: invalid value encountered in multiply\n",
            "Epoch: 1000/1000"
          ],
          "name": "stderr"
        },
        {
          "output_type": "execute_result",
          "data": {
            "text/plain": [
              "<__main__.NeuralNetMLP at 0x7fec55d0f4e0>"
            ]
          },
          "metadata": {
            "tags": []
          },
          "execution_count": 11
        }
      ]
    },
    {
      "cell_type": "code",
      "metadata": {
        "id": "E98bzjgM-T-f",
        "colab_type": "code",
        "outputId": "3cf06b84-c663-4efd-fd41-058b2301aa4f",
        "colab": {
          "base_uri": "https://localhost:8080/",
          "height": 297
        }
      },
      "source": [
        "plt.plot(range(len(nn.cost_)), nn.cost_, color='k')\n",
        "#plt.ylim([0, 2000])\n",
        "plt.ylabel('Cost')\n",
        "plt.xlabel('Epochs * 50')\n",
        "plt.tight_layout()\n",
        "plt.show()"
      ],
      "execution_count": 0,
      "outputs": [
        {
          "output_type": "display_data",
          "data": {
            "image/png": "[encoded data removed]",
            "text/plain": [
              "<Figure size 432x288 with 1 Axes>"
            ]
          },
          "metadata": {
            "tags": []
          }
        }
      ]
    },
    {
      "cell_type": "code",
      "metadata": {
        "id": "JWFcRxWaVApK",
        "colab_type": "code",
        "colab": {}
      },
      "source": [
        "batches = np.array_split(range(len(nn.cost_)), 1000)\n",
        "cost_array = np.array(nn.cost_)\n",
        "cost_averages = [np.mean(cost_array[i]) for i in batches]"
      ],
      "execution_count": 0,
      "outputs": []
    },
    {
      "cell_type": "code",
      "metadata": {
        "id": "dWZN8OtqVMQz",
        "colab_type": "code",
        "outputId": "6ce4871f-51fc-4e53-d650-b5641136017d",
        "colab": {
          "base_uri": "https://localhost:8080/",
          "height": 297
        }
      },
      "source": [
        "plt.plot(range(len(cost_averages)), cost_averages, color='b')\n",
        "#plt.ylim([0, 2000])\n",
        "plt.ylabel('Cost')\n",
        "plt.xlabel('Epochs')\n",
        "plt.tight_layout()\n",
        "plt.show()"
      ],
      "execution_count": 0,
      "outputs": [
        {
          "output_type": "display_data",
          "data": {
            "image/png": "[encoded data removed]",
            "text/plain": [
              "<Figure size 432x288 with 1 Axes>"
            ]
          },
          "metadata": {
            "tags": []
          }
        }
      ]
    },
    {
      "cell_type": "code",
      "metadata": {
        "id": "e0KhtKULRk6V",
        "colab_type": "code",
        "outputId": "7d0c95e5-7883-4c81-f9c3-207c11a043cb",
        "colab": {
          "base_uri": "https://localhost:8080/",
          "height": 34
        }
      },
      "source": [
        "y_train_pred = nn.predict(x_train_new)\n",
        "accuracy = \\\n",
        "  ((np.sum(y_train == y_train_pred, axis=0)).astype('float') / x_train_new.shape[0])\n",
        "accuracy"
      ],
      "execution_count": 0,
      "outputs": [
        {
          "output_type": "execute_result",
          "data": {
            "text/plain": [
              "0.9995833333333334"
            ]
          },
          "metadata": {
            "tags": []
          },
          "execution_count": 20
        }
      ]
    },
    {
      "cell_type": "code",
      "metadata": {
        "id": "zCLQp1hETrp7",
        "colab_type": "code",
        "outputId": "4adbfd4c-1db3-4ce6-c3f7-5dc9d6fb49c4",
        "colab": {
          "base_uri": "https://localhost:8080/",
          "height": 34
        }
      },
      "source": [
        "y_test_pred = nn.predict(x_test_new)\n",
        "accuracy = \\\n",
        "  ((np.sum(y_test == y_test_pred, axis=0)).astype('float') / x_test_new.shape[0])\n",
        "accuracy"
      ],
      "execution_count": 0,
      "outputs": [
        {
          "output_type": "execute_result",
          "data": {
            "text/plain": [
              "0.9771"
            ]
          },
          "metadata": {
            "tags": []
          },
          "execution_count": 21
        }
      ]
    },
    {
      "cell_type": "code",
      "metadata": {
        "id": "gksvz1r5TxK7",
        "colab_type": "code",
        "outputId": "a466ad6c-6f59-44a6-db65-8c8b175e8264",
        "colab": {
          "base_uri": "https://localhost:8080/",
          "height": 297
        }
      },
      "source": [
        "misclassified_img = x_test_new[y_test != y_test_pred][:30]\n",
        "correct_lab = y_test[y_test != y_test_pred][:30]\n",
        "misclassified_lab = y_test_pred[y_test != y_test_pred][:30]\n",
        "\n",
        "fig, ax = plt.subplots(nrows=6, ncols=5, sharex=True, sharey=True,)\n",
        "ax = ax.flatten()\n",
        "for i in range(30):\n",
        "    img = misclassified_img[i].reshape(28, 28)\n",
        "    ax[i].imshow(img, cmap='Greys', interpolation='nearest')\n",
        "    ax[i].set_title('%d) t: %d p: %d' % (i+1, correct_lab[i], misclassified_lab[i]))\n",
        "\n",
        "ax[0].set_xticks([])\n",
        "ax[0].set_yticks([])\n",
        "plt.tight_layout()\n",
        "plt.show()"
      ],
      "execution_count": 0,
      "outputs": [
        {
          "output_type": "display_data",
          "data": {
            "image/png": "[encoded data removed]",
            "text/plain": [
              "<Figure size 432x288 with 30 Axes>"
            ]
          },
          "metadata": {
            "tags": []
          }
        }
      ]
    }
  ]
}